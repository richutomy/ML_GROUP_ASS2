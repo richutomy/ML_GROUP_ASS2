{
  "nbformat": 4,
  "nbformat_minor": 0,
  "metadata": {
    "kernelspec": {
      "display_name": "R",
      "language": "R",
      "name": "ir"
    },
    "language_info": {
      "codemirror_mode": "r",
      "file_extension": ".r",
      "mimetype": "text/x-r-source",
      "name": "R",
      "pygments_lexer": "r",
      "version": "3.3.1"
    },
    "colab": {
      "name": "ML_ASS2.ipynb",
      "provenance": [],
      "include_colab_link": true
    }
  },
  "cells": [
    {
      "cell_type": "markdown",
      "metadata": {
        "id": "view-in-github",
        "colab_type": "text"
      },
      "source": [
        "<a href=\"https://colab.research.google.com/github/richutomy/ML_GROUP_ASS2/blob/master/ML_ASS2.ipynb\" target=\"_parent\"><img src=\"https://colab.research.google.com/assets/colab-badge.svg\" alt=\"Open In Colab\"/></a>"
      ]
    },
    {
      "cell_type": "markdown",
      "metadata": {
        "id": "Vx17_zzzbclj",
        "colab_type": "text"
      },
      "source": [
        "# SENTIMENTAL ANALYSIS OF TWITTER DATA"
      ]
    },
    {
      "cell_type": "markdown",
      "metadata": {
        "id": "guTosjP1c868",
        "colab_type": "text"
      },
      "source": [
        ""
      ]
    },
    {
      "cell_type": "markdown",
      "metadata": {
        "id": "On7nScsUbmiq",
        "colab_type": "text"
      },
      "source": [
        "##1. BUSINESS UNDERSTANDING\n",
        "\n",
        " **1.1 BUSINESS PROBLEM**\n",
        "\n",
        "Social media proves to be a medium for the users to get details more easily and also understand multiple perspectives about different products and benefits(Kang, 2018). As a result of the data  shared through social media can affect a potential consumer’s decision to make a purchase. Social media promotes interaction, coordination as well as sharing of content (Palmer & Koenig-Lewis, 2009). This can be through blogs, social network platforms as well as review websites. Such sites can also be used to promote brands like Pinterest. The information that is shared in the Internet about different views of customers about products can be utilised by firms to evaluate the general feedback of the customers to further improve their offerings and more over ensure a higher customer satisfaction.\n",
        "\n",
        "In this project, we aim to utilise the data available on social media to understand the general opinion of users about a product that would assist the vendor to further iterate their product. As part of this assignment, sentimental analysis would be used to understand the general trends in social media. Sentimental analysis can be defined as the procedure of computationally recognising and classifying feedbacks that is usually elaborated through text in order to identify the attitude of the writer as either 'positive', 'negative' or 'neutral'.  Thus the business problem statement of this project is as follows:\n",
        "Analysing the overall feedback of consumers with regards to the launch of the latest Apple iPhone 11 through Sentimental Analysis utilising Twitter Data. The data from Twitter is considered because the information is easily accessible when compared to other social networking sites such as Facebook and Instagram. In this project, tweets containing information @apple , #Iphone11 and so on. The mentioned business problem statement can be further divided into sub-sections as follows:\n",
        "\n",
        "\n",
        "\n",
        "*   Gathering Tweets through Twitter application\n",
        "*   Gathering Tweets through Twitter application\n",
        "*   Conducting Sentimental Analysis\n",
        "*   Executing Machine learning Algorithms to classify sentiments as positive, negative or neutral.\n",
        "\n",
        "\n",
        "Through this project, a firm can be assisted in comprehending users’ emotions regarding the firm’s brand, products and services. In addition, stake holders of the business can understand how an action can bring either a positive or negative impact on the business. This would in turn enhance the customer satisfaction and customer service.\n",
        "\n",
        "\n",
        "**1.2 DATA MINING PROBLEMS**\n",
        "\n",
        "The data mining problem can be considered as two stages:\n",
        "\n",
        "1.  Data cleaning/conditioning stage:  In this stage, the raw data from twitter needs to be cleaned and transformed into cleaned dataset that facilitates computation of predicting factors\n",
        "\n",
        "    This stage consists of the following steps:\n",
        "\n",
        "\n",
        "*   Data gathering from twitter\n",
        "*   Data pre-processing\n",
        "\n",
        "\n",
        "2.  Prediction & Analysis stage:  In this stage, a prediction model needs to be created that will assist predictions of outcomes dependent on a new variety of factors that were not included in the primary datasets.\n",
        "\n",
        "\n",
        "     This stage consists of the following steps:\n",
        "\n",
        "\n",
        "*   Prediction Model building and data analysis\n",
        "*   Correlation and Prediction Analysis\n",
        "\n",
        "\n",
        "\n",
        "The framework (Figure 1) utilised in this project is along the lines of Social Media Mining (SMM), Big Data, Sentimental Analysis, Data Mining, and Machine Learning methodologies that is utilised to classify and evaluate data from tweets.\n",
        "![alt text](https://drive.google.com/uc?id=1shcwYkNkV3n6Lpu60rsnOxoblFnboEQb)\n",
        "                **FIGURE 1: DATA MINING PROBLEM FRAMEWORK**\n",
        "\n",
        "\n",
        "\n",
        "\n",
        "The steps required for the Data Mining problem can thus be briefed as per the below figure:\n",
        "\n",
        "![alt text](https://drive.google.com/uc?id=1qnOjmPHFh8BsqC36_k1Fai5AlyCZ9iMz)\n",
        "\n"
      ]
    }
  ]
}